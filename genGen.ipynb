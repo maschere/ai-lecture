{
  "nbformat": 4,
  "nbformat_minor": 0,
  "metadata": {
    "colab": {
      "name": "genGen.ipynb",
      "provenance": [],
      "collapsed_sections": [],
      "authorship_tag": "ABX9TyNV0jMGEWBGgcAJljyvt4cV",
      "include_colab_link": true
    },
    "kernelspec": {
      "name": "python3",
      "display_name": "Python 3"
    },
    "language_info": {
      "name": "python"
    },
    "accelerator": "GPU",
    "widgets": {
      "application/vnd.jupyter.widget-state+json": {
        "ae19aa8e841b4de2afde014184432a0c": {
          "model_module": "@jupyter-widgets/controls",
          "model_name": "HBoxModel",
          "state": {
            "_view_name": "HBoxView",
            "_dom_classes": [],
            "_model_name": "HBoxModel",
            "_view_module": "@jupyter-widgets/controls",
            "_model_module_version": "1.5.0",
            "_view_count": null,
            "_view_module_version": "1.5.0",
            "box_style": "",
            "layout": "IPY_MODEL_386599c546764a0bac514415a4638ad4",
            "_model_module": "@jupyter-widgets/controls",
            "children": [
              "IPY_MODEL_526012ffae914344ac3c65f7b0eb9f24",
              "IPY_MODEL_57deac534b2e4130b17fd5fbafb96154"
            ]
          }
        },
        "386599c546764a0bac514415a4638ad4": {
          "model_module": "@jupyter-widgets/base",
          "model_name": "LayoutModel",
          "state": {
            "_view_name": "LayoutView",
            "grid_template_rows": null,
            "right": null,
            "justify_content": null,
            "_view_module": "@jupyter-widgets/base",
            "overflow": null,
            "_model_module_version": "1.2.0",
            "_view_count": null,
            "flex_flow": null,
            "width": null,
            "min_width": null,
            "border": null,
            "align_items": null,
            "bottom": null,
            "_model_module": "@jupyter-widgets/base",
            "top": null,
            "grid_column": null,
            "overflow_y": null,
            "overflow_x": null,
            "grid_auto_flow": null,
            "grid_area": null,
            "grid_template_columns": null,
            "flex": null,
            "_model_name": "LayoutModel",
            "justify_items": null,
            "grid_row": null,
            "max_height": null,
            "align_content": null,
            "visibility": null,
            "align_self": null,
            "height": null,
            "min_height": null,
            "padding": null,
            "grid_auto_rows": null,
            "grid_gap": null,
            "max_width": null,
            "order": null,
            "_view_module_version": "1.2.0",
            "grid_template_areas": null,
            "object_position": null,
            "object_fit": null,
            "grid_auto_columns": null,
            "margin": null,
            "display": null,
            "left": null
          }
        },
        "526012ffae914344ac3c65f7b0eb9f24": {
          "model_module": "@jupyter-widgets/controls",
          "model_name": "FloatProgressModel",
          "state": {
            "_view_name": "ProgressView",
            "style": "IPY_MODEL_d6971fd887424100903ae366e83e504c",
            "_dom_classes": [],
            "description": "100%",
            "_model_name": "FloatProgressModel",
            "bar_style": "success",
            "max": 14212972,
            "_view_module": "@jupyter-widgets/controls",
            "_model_module_version": "1.5.0",
            "value": 14212972,
            "_view_count": null,
            "_view_module_version": "1.5.0",
            "orientation": "horizontal",
            "min": 0,
            "description_tooltip": null,
            "_model_module": "@jupyter-widgets/controls",
            "layout": "IPY_MODEL_b1905fd03222403f809e9d5418055b6d"
          }
        },
        "57deac534b2e4130b17fd5fbafb96154": {
          "model_module": "@jupyter-widgets/controls",
          "model_name": "HTMLModel",
          "state": {
            "_view_name": "HTMLView",
            "style": "IPY_MODEL_fba3f697881745318d4341f42aebd34e",
            "_dom_classes": [],
            "description": "",
            "_model_name": "HTMLModel",
            "placeholder": "​",
            "_view_module": "@jupyter-widgets/controls",
            "_model_module_version": "1.5.0",
            "value": " 13.6M/13.6M [00:00&lt;00:00, 51.0MB/s]",
            "_view_count": null,
            "_view_module_version": "1.5.0",
            "description_tooltip": null,
            "_model_module": "@jupyter-widgets/controls",
            "layout": "IPY_MODEL_22461a15dbf04e2ba61387a87f7b236e"
          }
        },
        "d6971fd887424100903ae366e83e504c": {
          "model_module": "@jupyter-widgets/controls",
          "model_name": "ProgressStyleModel",
          "state": {
            "_view_name": "StyleView",
            "_model_name": "ProgressStyleModel",
            "description_width": "initial",
            "_view_module": "@jupyter-widgets/base",
            "_model_module_version": "1.5.0",
            "_view_count": null,
            "_view_module_version": "1.2.0",
            "bar_color": null,
            "_model_module": "@jupyter-widgets/controls"
          }
        },
        "b1905fd03222403f809e9d5418055b6d": {
          "model_module": "@jupyter-widgets/base",
          "model_name": "LayoutModel",
          "state": {
            "_view_name": "LayoutView",
            "grid_template_rows": null,
            "right": null,
            "justify_content": null,
            "_view_module": "@jupyter-widgets/base",
            "overflow": null,
            "_model_module_version": "1.2.0",
            "_view_count": null,
            "flex_flow": null,
            "width": null,
            "min_width": null,
            "border": null,
            "align_items": null,
            "bottom": null,
            "_model_module": "@jupyter-widgets/base",
            "top": null,
            "grid_column": null,
            "overflow_y": null,
            "overflow_x": null,
            "grid_auto_flow": null,
            "grid_area": null,
            "grid_template_columns": null,
            "flex": null,
            "_model_name": "LayoutModel",
            "justify_items": null,
            "grid_row": null,
            "max_height": null,
            "align_content": null,
            "visibility": null,
            "align_self": null,
            "height": null,
            "min_height": null,
            "padding": null,
            "grid_auto_rows": null,
            "grid_gap": null,
            "max_width": null,
            "order": null,
            "_view_module_version": "1.2.0",
            "grid_template_areas": null,
            "object_position": null,
            "object_fit": null,
            "grid_auto_columns": null,
            "margin": null,
            "display": null,
            "left": null
          }
        },
        "fba3f697881745318d4341f42aebd34e": {
          "model_module": "@jupyter-widgets/controls",
          "model_name": "DescriptionStyleModel",
          "state": {
            "_view_name": "StyleView",
            "_model_name": "DescriptionStyleModel",
            "description_width": "",
            "_view_module": "@jupyter-widgets/base",
            "_model_module_version": "1.5.0",
            "_view_count": null,
            "_view_module_version": "1.2.0",
            "_model_module": "@jupyter-widgets/controls"
          }
        },
        "22461a15dbf04e2ba61387a87f7b236e": {
          "model_module": "@jupyter-widgets/base",
          "model_name": "LayoutModel",
          "state": {
            "_view_name": "LayoutView",
            "grid_template_rows": null,
            "right": null,
            "justify_content": null,
            "_view_module": "@jupyter-widgets/base",
            "overflow": null,
            "_model_module_version": "1.2.0",
            "_view_count": null,
            "flex_flow": null,
            "width": null,
            "min_width": null,
            "border": null,
            "align_items": null,
            "bottom": null,
            "_model_module": "@jupyter-widgets/base",
            "top": null,
            "grid_column": null,
            "overflow_y": null,
            "overflow_x": null,
            "grid_auto_flow": null,
            "grid_area": null,
            "grid_template_columns": null,
            "flex": null,
            "_model_name": "LayoutModel",
            "justify_items": null,
            "grid_row": null,
            "max_height": null,
            "align_content": null,
            "visibility": null,
            "align_self": null,
            "height": null,
            "min_height": null,
            "padding": null,
            "grid_auto_rows": null,
            "grid_gap": null,
            "max_width": null,
            "order": null,
            "_view_module_version": "1.2.0",
            "grid_template_areas": null,
            "object_position": null,
            "object_fit": null,
            "grid_auto_columns": null,
            "margin": null,
            "display": null,
            "left": null
          }
        }
      }
    }
  },
  "cells": [
    {
      "cell_type": "markdown",
      "metadata": {
        "id": "view-in-github",
        "colab_type": "text"
      },
      "source": [
        "<a href=\"https://colab.research.google.com/github/maschere/ai-lecture/blob/main/genGen.ipynb\" target=\"_parent\"><img src=\"https://colab.research.google.com/assets/colab-badge.svg\" alt=\"Open In Colab\"/></a>"
      ]
    },
    {
      "cell_type": "markdown",
      "metadata": {
        "id": "yr9QMETSLWKb"
      },
      "source": [
        "Genetic algorithm steered by mobilenet to generate images by painting circles "
      ]
    },
    {
      "cell_type": "code",
      "metadata": {
        "id": "JLEEMxhC7THd"
      },
      "source": [
        "# generative Genetic algorithm\n",
        "# %%\n",
        "from typing import Callable\n",
        "\n",
        "from IPython.display import display\n",
        "import numpy as np\n",
        "from PIL import Image\n",
        "from skimage import draw\n",
        "\n",
        "\n",
        "class indi:\n",
        "    \"\"\"individium class\"\"\"\n",
        "\n",
        "    def __init__(self, func: Callable):\n",
        "        \"\"\"init individum with random starting image\n",
        "\n",
        "        Args:\n",
        "            func (Callable): fitness funciton taking an image as parameter\n",
        "        \"\"\"\n",
        "        lin = np.linspace(0,5,256,endpoint=False)\n",
        "        x,y = np.meshgrid(lin,lin)\n",
        "        self.img = np.stack((perlin(x,y),perlin(x,y),perlin(x,y)),axis=2)\n",
        "        self.fitness = func\n",
        "\n",
        "    def eval(self) -> float:\n",
        "        return self.fitness(self.img)\n",
        "\n",
        "    def mutate(self, sigma=0.1):\n",
        "        \"\"\"mutate by drawing randomly colored circles in the image\"\"\"\n",
        "        color = (np.random.randn(3)+0.1)*sigma\n",
        "        circle = np.zeros((256,256,3))\n",
        "        rr, cc = draw.circle(np.random.randint(255), np.random.randint(255), radius=8+int(32*np.random.uniform()), shape=(256,256))\n",
        "        circle[rr,cc,:] = 1\n",
        "        circle *= color\n",
        "        self.img += circle\n",
        "\n",
        "#https://stackoverflow.com/questions/42147776/producing-2d-perlin-noise-with-numpy\n",
        "def perlin(x,y,seed=None):\n",
        "    # permutation table\n",
        "    if seed is not None:\n",
        "      np.random.seed(seed)\n",
        "    p = np.arange(256,dtype=int)\n",
        "    np.random.shuffle(p)\n",
        "    p = np.stack([p,p]).flatten()\n",
        "    # coordinates of the top-left\n",
        "    xi = x.astype(int)\n",
        "    yi = y.astype(int)\n",
        "    # internal coordinates\n",
        "    xf = x - xi\n",
        "    yf = y - yi\n",
        "    # fade factors\n",
        "    u = fade(xf)\n",
        "    v = fade(yf)\n",
        "    # noise components\n",
        "    n00 = gradient(p[p[xi]+yi],xf,yf)\n",
        "    n01 = gradient(p[p[xi]+yi+1],xf,yf-1)\n",
        "    n11 = gradient(p[p[xi+1]+yi+1],xf-1,yf-1)\n",
        "    n10 = gradient(p[p[xi+1]+yi],xf-1,yf)\n",
        "    # combine noises\n",
        "    x1 = lerp(n00,n10,u)\n",
        "    x2 = lerp(n01,n11,u) # FIX1: I was using n10 instead of n01\n",
        "    return lerp(x1,x2,v) # FIX2: I also had to reverse x1 and x2 here\n",
        "\n",
        "def lerp(a,b,x):\n",
        "    \"linear interpolation\"\n",
        "    return a + x * (b-a)\n",
        "\n",
        "def fade(t):\n",
        "    \"6t^5 - 15t^4 + 10t^3\"\n",
        "    return 6 * t**5 - 15 * t**4 + 10 * t**3\n",
        "\n",
        "def gradient(h,x,y):\n",
        "    \"grad converts h to the right gradient vector and return the dot product with (x,y)\"\n",
        "    vectors = np.array([[0,1],[0,-1],[1,0],[-1,0]])\n",
        "    g = vectors[h%4]\n",
        "    return g[:,:,0] * x + g[:,:,1] * y\n",
        "\n",
        "\n",
        "def xover(a: indi, b: indi) -> indi:\n",
        "    \"\"\"crossover between two individuals by randomly-weighted interpolation\n",
        "    \"\"\"\n",
        "    c = indi(a.fitness)\n",
        "    lin = np.linspace(0,5,256,endpoint=False)\n",
        "    x,y = np.meshgrid(lin,lin)\n",
        "    rel = perlin(x,y)\n",
        "    rel = rel - rel.min()\n",
        "    rel = rel / rel.max()\n",
        "    rel = np.stack((rel,rel,rel),axis=2)\n",
        "    c.img = rel * a.img + (1 - rel) * b.img\n",
        "    return c\n",
        "\n",
        "\n"
      ],
      "execution_count": 1,
      "outputs": []
    },
    {
      "cell_type": "code",
      "metadata": {
        "colab": {
          "base_uri": "https://localhost:8080/",
          "height": 273
        },
        "id": "aBVaq5d2gdlk",
        "outputId": "74a75ec2-10ae-492e-d50e-09ecabdba85b"
      },
      "source": [
        "lin = np.linspace(0,5,256,endpoint=False)\n",
        "x,y = np.meshgrid(lin,lin)\n",
        "rel = perlin(x,y)\n",
        "rel = rel - rel.min()\n",
        "rel = rel / rel.max()\n",
        "rel = np.stack((rel,rel,rel),axis=2)\n",
        "Image.fromarray((np.clip((rel),0,1)*255).astype(np.uint8))"
      ],
      "execution_count": 4,
      "outputs": [
        {
          "output_type": "execute_result",
          "data": {
            "image/png": "[encoded data removed]",
            "text/plain": [
              "<PIL.Image.Image image mode=RGB size=256x256 at 0x7FAB2EBD8D90>"
            ]
          },
          "metadata": {
            "tags": []
          },
          "execution_count": 4
        }
      ]
    },
    {
      "cell_type": "code",
      "metadata": {
        "colab": {
          "base_uri": "https://localhost:8080/",
          "height": 101,
          "referenced_widgets": [
            "ae19aa8e841b4de2afde014184432a0c",
            "386599c546764a0bac514415a4638ad4",
            "526012ffae914344ac3c65f7b0eb9f24",
            "57deac534b2e4130b17fd5fbafb96154",
            "d6971fd887424100903ae366e83e504c",
            "b1905fd03222403f809e9d5418055b6d",
            "fba3f697881745318d4341f42aebd34e",
            "22461a15dbf04e2ba61387a87f7b236e"
          ]
        },
        "id": "uyx0M5aWdGC1",
        "outputId": "37932e01-035d-4889-8079-92275779d596"
      },
      "source": [
        "# imagenet steering\n",
        "import torch\n",
        "from torchvision import transforms\n",
        "\n",
        "model = torch.hub.load('pytorch/vision:v0.9.0', 'mobilenet_v2', pretrained=True).cuda()\n",
        "model.eval()\n",
        "preprocess = transforms.Compose([\n",
        "    transforms.Resize(256),\n",
        "    transforms.CenterCrop(224),\n",
        "    transforms.ToTensor(),\n",
        "    transforms.Normalize(mean=[0.485, 0.456, 0.406], std=[0.229, 0.224, 0.225]),\n",
        "])\n",
        "\n",
        "\n",
        "def tensor_to_img(x):\n",
        "    return Image.fromarray((np.clip([0.485, 0.456, 0.406] + x.permute([1,2,0]).numpy()*[0.229, 0.224, 0.225],0,1)*255).astype(np.uint8))\n",
        "\n",
        "def array_to_img(x):\n",
        "    return Image.fromarray((np.clip((x),0,1)*255).astype(np.uint8))\n",
        "\n",
        "target_class =  71# 'scorpion',\n",
        "\n",
        "def fitness(img):\n",
        "    with torch.no_grad():\n",
        "        probs = model.forward(preprocess(array_to_img(img)).unsqueeze(0).cuda())\n",
        "        return probs.max().detach().cpu().numpy()\n",
        "\n"
      ],
      "execution_count": 5,
      "outputs": [
        {
          "output_type": "stream",
          "text": [
            "Downloading: \"https://github.com/pytorch/vision/archive/v0.9.0.zip\" to /root/.cache/torch/hub/v0.9.0.zip\n",
            "Downloading: \"https://download.pytorch.org/models/mobilenet_v2-b0353104.pth\" to /root/.cache/torch/hub/checkpoints/mobilenet_v2-b0353104.pth\n"
          ],
          "name": "stderr"
        },
        {
          "output_type": "display_data",
          "data": {
            "application/vnd.jupyter.widget-view+json": {
              "model_id": "ae19aa8e841b4de2afde014184432a0c",
              "version_minor": 0,
              "version_major": 2
            },
            "text/plain": [
              "HBox(children=(FloatProgress(value=0.0, max=14212972.0), HTML(value='')))"
            ]
          },
          "metadata": {
            "tags": []
          }
        },
        {
          "output_type": "stream",
          "text": [
            "\n"
          ],
          "name": "stdout"
        }
      ]
    },
    {
      "cell_type": "code",
      "metadata": {
        "id": "E0K0BgYk7X2O"
      },
      "source": [
        "#%% run it\n",
        "popsize = 200\n",
        "maxgen = 10000\n",
        "use_elitism = False\n",
        "allow_self_reproduction = True\n",
        "pop = [indi(fitness) for i in range(popsize)]\n",
        "!mkdir imgs"
      ],
      "execution_count": 6,
      "outputs": []
    },
    {
      "cell_type": "code",
      "metadata": {
        "colab": {
          "base_uri": "https://localhost:8080/",
          "height": 1000
        },
        "id": "MruC2Oqd7Y-R",
        "outputId": "ee2a1259-38f4-4f89-9888-df75ab9b3471"
      },
      "source": [
        "# %%\n",
        "for gen in range(maxgen):\n",
        "    pop.sort(key=lambda p0: p0.eval(), reverse=True)\n",
        "    best = pop[0]\n",
        "    print(f\"{gen}: fitness: {best.eval()}\")\n",
        "    array_to_img(best.img).save(f\"imgs/bestimg{gen}.png\")\n",
        "\n",
        "    # cross over top 10 indis of old pop\n",
        "    pop = pop[0:10]\n",
        "    new_pop = []\n",
        "    for a in pop:\n",
        "        for b in pop:\n",
        "            if allow_self_reproduction == False and a == b:\n",
        "                continue\n",
        "            new_ind = xover(a, b)\n",
        "            new_ind.mutate()\n",
        "            new_ind.mutate()\n",
        "            new_ind.mutate()\n",
        "            new_ind.mutate()\n",
        "            new_pop.append(new_ind)\n",
        "    if use_elitism:\n",
        "        pop = pop[0:1] + new_pop\n",
        "    else:\n",
        "        pop = new_pop\n",
        "\n",
        "# %%\n"
      ],
      "execution_count": 7,
      "outputs": [
        {
          "output_type": "stream",
          "text": [
            "0: fitness: 10.462626457214355\n",
            "1: fitness: 12.785326957702637\n",
            "2: fitness: 14.3280668258667\n",
            "3: fitness: 17.15912628173828\n",
            "4: fitness: 16.516572952270508\n",
            "5: fitness: 17.19997215270996\n",
            "6: fitness: 17.718976974487305\n",
            "7: fitness: 17.68560028076172\n",
            "8: fitness: 18.459238052368164\n",
            "9: fitness: 19.314815521240234\n",
            "10: fitness: 19.931156158447266\n",
            "11: fitness: 20.15449333190918\n",
            "12: fitness: 19.639602661132812\n",
            "13: fitness: 19.223630905151367\n",
            "14: fitness: 18.98642921447754\n",
            "15: fitness: 19.150476455688477\n",
            "16: fitness: 19.64147186279297\n",
            "17: fitness: 19.79707908630371\n",
            "18: fitness: 20.336212158203125\n",
            "19: fitness: 19.85110092163086\n",
            "20: fitness: 19.84173011779785\n",
            "21: fitness: 20.53156852722168\n",
            "22: fitness: 20.39577865600586\n",
            "23: fitness: 20.762928009033203\n",
            "24: fitness: 20.024898529052734\n",
            "25: fitness: 19.832138061523438\n",
            "26: fitness: 20.90657615661621\n",
            "27: fitness: 21.051847457885742\n",
            "28: fitness: 20.449735641479492\n",
            "29: fitness: 20.848358154296875\n",
            "30: fitness: 21.09585189819336\n",
            "31: fitness: 20.858373641967773\n",
            "32: fitness: 20.873167037963867\n",
            "33: fitness: 21.408002853393555\n",
            "34: fitness: 21.28162956237793\n",
            "35: fitness: 21.621212005615234\n",
            "36: fitness: 21.94899559020996\n",
            "37: fitness: 22.067119598388672\n",
            "38: fitness: 22.195499420166016\n",
            "39: fitness: 22.269142150878906\n",
            "40: fitness: 22.141889572143555\n",
            "41: fitness: 22.327571868896484\n",
            "42: fitness: 22.5428524017334\n",
            "43: fitness: 23.386089324951172\n",
            "44: fitness: 22.383502960205078\n",
            "45: fitness: 22.2537784576416\n",
            "46: fitness: 22.662372589111328\n",
            "47: fitness: 22.830543518066406\n",
            "48: fitness: 22.610498428344727\n",
            "49: fitness: 22.30781364440918\n",
            "50: fitness: 23.97854995727539\n",
            "51: fitness: 23.900951385498047\n",
            "52: fitness: 23.814355850219727\n",
            "53: fitness: 23.54509162902832\n",
            "54: fitness: 23.59213638305664\n",
            "55: fitness: 24.576080322265625\n",
            "56: fitness: 24.618274688720703\n",
            "57: fitness: 25.41714096069336\n",
            "58: fitness: 25.451213836669922\n",
            "59: fitness: 25.75474739074707\n",
            "60: fitness: 25.329988479614258\n",
            "61: fitness: 25.730802536010742\n",
            "62: fitness: 25.579334259033203\n",
            "63: fitness: 26.35190773010254\n",
            "64: fitness: 26.58339500427246\n",
            "65: fitness: 26.86194610595703\n",
            "66: fitness: 27.025989532470703\n",
            "67: fitness: 27.52935028076172\n",
            "68: fitness: 27.7469425201416\n",
            "69: fitness: 27.6920108795166\n",
            "70: fitness: 28.269502639770508\n",
            "71: fitness: 28.539230346679688\n",
            "72: fitness: 29.349937438964844\n",
            "73: fitness: 29.132675170898438\n",
            "74: fitness: 28.611557006835938\n",
            "75: fitness: 28.888660430908203\n",
            "76: fitness: 28.980833053588867\n",
            "77: fitness: 29.230649948120117\n",
            "78: fitness: 29.058517456054688\n",
            "79: fitness: 29.207977294921875\n",
            "80: fitness: 29.29109764099121\n",
            "81: fitness: 29.492324829101562\n",
            "82: fitness: 29.28428840637207\n",
            "83: fitness: 29.33713150024414\n",
            "84: fitness: 29.39069175720215\n",
            "85: fitness: 29.995386123657227\n",
            "86: fitness: 29.209997177124023\n",
            "87: fitness: 29.836824417114258\n",
            "88: fitness: 30.121414184570312\n",
            "89: fitness: 30.209503173828125\n",
            "90: fitness: 29.98911476135254\n",
            "91: fitness: 29.99584197998047\n",
            "92: fitness: 30.184934616088867\n",
            "93: fitness: 30.75398826599121\n",
            "94: fitness: 30.473316192626953\n",
            "95: fitness: 30.480300903320312\n",
            "96: fitness: 30.629207611083984\n"
          ],
          "name": "stdout"
        },
        {
          "output_type": "error",
          "ename": "KeyboardInterrupt",
          "evalue": "ignored",
          "traceback": [
            "\u001b[0;31m---------------------------------------------------------------------------\u001b[0m",
            "\u001b[0;31mKeyboardInterrupt\u001b[0m                         Traceback (most recent call last)",
            "\u001b[0;32m<ipython-input-7-5d66ca9547c7>\u001b[0m in \u001b[0;36m<module>\u001b[0;34m()\u001b[0m\n\u001b[1;32m     13\u001b[0m             \u001b[0;32mif\u001b[0m \u001b[0mallow_self_reproduction\u001b[0m \u001b[0;34m==\u001b[0m \u001b[0;32mFalse\u001b[0m \u001b[0;32mand\u001b[0m \u001b[0ma\u001b[0m \u001b[0;34m==\u001b[0m \u001b[0mb\u001b[0m\u001b[0;34m:\u001b[0m\u001b[0;34m\u001b[0m\u001b[0;34m\u001b[0m\u001b[0m\n\u001b[1;32m     14\u001b[0m                 \u001b[0;32mcontinue\u001b[0m\u001b[0;34m\u001b[0m\u001b[0;34m\u001b[0m\u001b[0m\n\u001b[0;32m---> 15\u001b[0;31m             \u001b[0mnew_ind\u001b[0m \u001b[0;34m=\u001b[0m \u001b[0mxover\u001b[0m\u001b[0;34m(\u001b[0m\u001b[0ma\u001b[0m\u001b[0;34m,\u001b[0m \u001b[0mb\u001b[0m\u001b[0;34m)\u001b[0m\u001b[0;34m\u001b[0m\u001b[0;34m\u001b[0m\u001b[0m\n\u001b[0m\u001b[1;32m     16\u001b[0m             \u001b[0mnew_ind\u001b[0m\u001b[0;34m.\u001b[0m\u001b[0mmutate\u001b[0m\u001b[0;34m(\u001b[0m\u001b[0;34m)\u001b[0m\u001b[0;34m\u001b[0m\u001b[0;34m\u001b[0m\u001b[0m\n\u001b[1;32m     17\u001b[0m             \u001b[0mnew_ind\u001b[0m\u001b[0;34m.\u001b[0m\u001b[0mmutate\u001b[0m\u001b[0;34m(\u001b[0m\u001b[0;34m)\u001b[0m\u001b[0;34m\u001b[0m\u001b[0;34m\u001b[0m\u001b[0m\n",
            "\u001b[0;32m<ipython-input-1-a6f261d6f257>\u001b[0m in \u001b[0;36mxover\u001b[0;34m(a, b)\u001b[0m\n\u001b[1;32m     80\u001b[0m     \"\"\"crossover between two individuals by randomly-weighted interpolation\n\u001b[1;32m     81\u001b[0m     \"\"\"\n\u001b[0;32m---> 82\u001b[0;31m     \u001b[0mc\u001b[0m \u001b[0;34m=\u001b[0m \u001b[0mindi\u001b[0m\u001b[0;34m(\u001b[0m\u001b[0ma\u001b[0m\u001b[0;34m.\u001b[0m\u001b[0mfitness\u001b[0m\u001b[0;34m)\u001b[0m\u001b[0;34m\u001b[0m\u001b[0;34m\u001b[0m\u001b[0m\n\u001b[0m\u001b[1;32m     83\u001b[0m     \u001b[0mlin\u001b[0m \u001b[0;34m=\u001b[0m \u001b[0mnp\u001b[0m\u001b[0;34m.\u001b[0m\u001b[0mlinspace\u001b[0m\u001b[0;34m(\u001b[0m\u001b[0;36m0\u001b[0m\u001b[0;34m,\u001b[0m\u001b[0;36m5\u001b[0m\u001b[0;34m,\u001b[0m\u001b[0;36m256\u001b[0m\u001b[0;34m,\u001b[0m\u001b[0mendpoint\u001b[0m\u001b[0;34m=\u001b[0m\u001b[0;32mFalse\u001b[0m\u001b[0;34m)\u001b[0m\u001b[0;34m\u001b[0m\u001b[0;34m\u001b[0m\u001b[0m\n\u001b[1;32m     84\u001b[0m     \u001b[0mx\u001b[0m\u001b[0;34m,\u001b[0m\u001b[0my\u001b[0m \u001b[0;34m=\u001b[0m \u001b[0mnp\u001b[0m\u001b[0;34m.\u001b[0m\u001b[0mmeshgrid\u001b[0m\u001b[0;34m(\u001b[0m\u001b[0mlin\u001b[0m\u001b[0;34m,\u001b[0m\u001b[0mlin\u001b[0m\u001b[0;34m)\u001b[0m\u001b[0;34m\u001b[0m\u001b[0;34m\u001b[0m\u001b[0m\n",
            "\u001b[0;32m<ipython-input-1-a6f261d6f257>\u001b[0m in \u001b[0;36m__init__\u001b[0;34m(self, func)\u001b[0m\n\u001b[1;32m     20\u001b[0m         \u001b[0mlin\u001b[0m \u001b[0;34m=\u001b[0m \u001b[0mnp\u001b[0m\u001b[0;34m.\u001b[0m\u001b[0mlinspace\u001b[0m\u001b[0;34m(\u001b[0m\u001b[0;36m0\u001b[0m\u001b[0;34m,\u001b[0m\u001b[0;36m5\u001b[0m\u001b[0;34m,\u001b[0m\u001b[0;36m256\u001b[0m\u001b[0;34m,\u001b[0m\u001b[0mendpoint\u001b[0m\u001b[0;34m=\u001b[0m\u001b[0;32mFalse\u001b[0m\u001b[0;34m)\u001b[0m\u001b[0;34m\u001b[0m\u001b[0;34m\u001b[0m\u001b[0m\n\u001b[1;32m     21\u001b[0m         \u001b[0mx\u001b[0m\u001b[0;34m,\u001b[0m\u001b[0my\u001b[0m \u001b[0;34m=\u001b[0m \u001b[0mnp\u001b[0m\u001b[0;34m.\u001b[0m\u001b[0mmeshgrid\u001b[0m\u001b[0;34m(\u001b[0m\u001b[0mlin\u001b[0m\u001b[0;34m,\u001b[0m\u001b[0mlin\u001b[0m\u001b[0;34m)\u001b[0m\u001b[0;34m\u001b[0m\u001b[0;34m\u001b[0m\u001b[0m\n\u001b[0;32m---> 22\u001b[0;31m         \u001b[0mself\u001b[0m\u001b[0;34m.\u001b[0m\u001b[0mimg\u001b[0m \u001b[0;34m=\u001b[0m \u001b[0mnp\u001b[0m\u001b[0;34m.\u001b[0m\u001b[0mstack\u001b[0m\u001b[0;34m(\u001b[0m\u001b[0;34m(\u001b[0m\u001b[0mperlin\u001b[0m\u001b[0;34m(\u001b[0m\u001b[0mx\u001b[0m\u001b[0;34m,\u001b[0m\u001b[0my\u001b[0m\u001b[0;34m)\u001b[0m\u001b[0;34m,\u001b[0m\u001b[0mperlin\u001b[0m\u001b[0;34m(\u001b[0m\u001b[0mx\u001b[0m\u001b[0;34m,\u001b[0m\u001b[0my\u001b[0m\u001b[0;34m)\u001b[0m\u001b[0;34m,\u001b[0m\u001b[0mperlin\u001b[0m\u001b[0;34m(\u001b[0m\u001b[0mx\u001b[0m\u001b[0;34m,\u001b[0m\u001b[0my\u001b[0m\u001b[0;34m)\u001b[0m\u001b[0;34m)\u001b[0m\u001b[0;34m,\u001b[0m\u001b[0maxis\u001b[0m\u001b[0;34m=\u001b[0m\u001b[0;36m2\u001b[0m\u001b[0;34m)\u001b[0m\u001b[0;34m\u001b[0m\u001b[0;34m\u001b[0m\u001b[0m\n\u001b[0m\u001b[1;32m     23\u001b[0m         \u001b[0mself\u001b[0m\u001b[0;34m.\u001b[0m\u001b[0mfitness\u001b[0m \u001b[0;34m=\u001b[0m \u001b[0mfunc\u001b[0m\u001b[0;34m\u001b[0m\u001b[0;34m\u001b[0m\u001b[0m\n\u001b[1;32m     24\u001b[0m \u001b[0;34m\u001b[0m\u001b[0m\n",
            "\u001b[0;32m<ipython-input-1-a6f261d6f257>\u001b[0m in \u001b[0;36mperlin\u001b[0;34m(x, y, seed)\u001b[0m\n\u001b[1;32m     50\u001b[0m     \u001b[0myf\u001b[0m \u001b[0;34m=\u001b[0m \u001b[0my\u001b[0m \u001b[0;34m-\u001b[0m \u001b[0myi\u001b[0m\u001b[0;34m\u001b[0m\u001b[0;34m\u001b[0m\u001b[0m\n\u001b[1;32m     51\u001b[0m     \u001b[0;31m# fade factors\u001b[0m\u001b[0;34m\u001b[0m\u001b[0;34m\u001b[0m\u001b[0;34m\u001b[0m\u001b[0m\n\u001b[0;32m---> 52\u001b[0;31m     \u001b[0mu\u001b[0m \u001b[0;34m=\u001b[0m \u001b[0mfade\u001b[0m\u001b[0;34m(\u001b[0m\u001b[0mxf\u001b[0m\u001b[0;34m)\u001b[0m\u001b[0;34m\u001b[0m\u001b[0;34m\u001b[0m\u001b[0m\n\u001b[0m\u001b[1;32m     53\u001b[0m     \u001b[0mv\u001b[0m \u001b[0;34m=\u001b[0m \u001b[0mfade\u001b[0m\u001b[0;34m(\u001b[0m\u001b[0myf\u001b[0m\u001b[0;34m)\u001b[0m\u001b[0;34m\u001b[0m\u001b[0;34m\u001b[0m\u001b[0m\n\u001b[1;32m     54\u001b[0m     \u001b[0;31m# noise components\u001b[0m\u001b[0;34m\u001b[0m\u001b[0;34m\u001b[0m\u001b[0;34m\u001b[0m\u001b[0m\n",
            "\u001b[0;32m<ipython-input-1-a6f261d6f257>\u001b[0m in \u001b[0;36mfade\u001b[0;34m(t)\u001b[0m\n\u001b[1;32m     68\u001b[0m \u001b[0;32mdef\u001b[0m \u001b[0mfade\u001b[0m\u001b[0;34m(\u001b[0m\u001b[0mt\u001b[0m\u001b[0;34m)\u001b[0m\u001b[0;34m:\u001b[0m\u001b[0;34m\u001b[0m\u001b[0;34m\u001b[0m\u001b[0m\n\u001b[1;32m     69\u001b[0m     \u001b[0;34m\"6t^5 - 15t^4 + 10t^3\"\u001b[0m\u001b[0;34m\u001b[0m\u001b[0;34m\u001b[0m\u001b[0m\n\u001b[0;32m---> 70\u001b[0;31m     \u001b[0;32mreturn\u001b[0m \u001b[0;36m6\u001b[0m \u001b[0;34m*\u001b[0m \u001b[0mt\u001b[0m\u001b[0;34m**\u001b[0m\u001b[0;36m5\u001b[0m \u001b[0;34m-\u001b[0m \u001b[0;36m15\u001b[0m \u001b[0;34m*\u001b[0m \u001b[0mt\u001b[0m\u001b[0;34m**\u001b[0m\u001b[0;36m4\u001b[0m \u001b[0;34m+\u001b[0m \u001b[0;36m10\u001b[0m \u001b[0;34m*\u001b[0m \u001b[0mt\u001b[0m\u001b[0;34m**\u001b[0m\u001b[0;36m3\u001b[0m\u001b[0;34m\u001b[0m\u001b[0;34m\u001b[0m\u001b[0m\n\u001b[0m\u001b[1;32m     71\u001b[0m \u001b[0;34m\u001b[0m\u001b[0m\n\u001b[1;32m     72\u001b[0m \u001b[0;32mdef\u001b[0m \u001b[0mgradient\u001b[0m\u001b[0;34m(\u001b[0m\u001b[0mh\u001b[0m\u001b[0;34m,\u001b[0m\u001b[0mx\u001b[0m\u001b[0;34m,\u001b[0m\u001b[0my\u001b[0m\u001b[0;34m)\u001b[0m\u001b[0;34m:\u001b[0m\u001b[0;34m\u001b[0m\u001b[0;34m\u001b[0m\u001b[0m\n",
            "\u001b[0;31mKeyboardInterrupt\u001b[0m: "
          ]
        }
      ]
    },
    {
      "cell_type": "code",
      "metadata": {
        "colab": {
          "base_uri": "https://localhost:8080/"
        },
        "id": "D7Y6MFJyFGUV",
        "outputId": "cc6a5315-6624-4139-97f0-778f69dd5fae"
      },
      "source": [
        "!ffmpeg -r 20 -i /content/imgs/bestimg%d.png -vcodec mpeg4 -y movie.mp4"
      ],
      "execution_count": null,
      "outputs": [
        {
          "output_type": "stream",
          "text": [
            "ffmpeg version 3.4.8-0ubuntu0.2 Copyright (c) 2000-2020 the FFmpeg developers\n",
            "  built with gcc 7 (Ubuntu 7.5.0-3ubuntu1~18.04)\n",
            "  configuration: --prefix=/usr --extra-version=0ubuntu0.2 --toolchain=hardened --libdir=/usr/lib/x86_64-linux-gnu --incdir=/usr/include/x86_64-linux-gnu --enable-gpl --disable-stripping --enable-avresample --enable-avisynth --enable-gnutls --enable-ladspa --enable-libass --enable-libbluray --enable-libbs2b --enable-libcaca --enable-libcdio --enable-libflite --enable-libfontconfig --enable-libfreetype --enable-libfribidi --enable-libgme --enable-libgsm --enable-libmp3lame --enable-libmysofa --enable-libopenjpeg --enable-libopenmpt --enable-libopus --enable-libpulse --enable-librubberband --enable-librsvg --enable-libshine --enable-libsnappy --enable-libsoxr --enable-libspeex --enable-libssh --enable-libtheora --enable-libtwolame --enable-libvorbis --enable-libvpx --enable-libwavpack --enable-libwebp --enable-libx265 --enable-libxml2 --enable-libxvid --enable-libzmq --enable-libzvbi --enable-omx --enable-openal --enable-opengl --enable-sdl2 --enable-libdc1394 --enable-libdrm --enable-libiec61883 --enable-chromaprint --enable-frei0r --enable-libopencv --enable-libx264 --enable-shared\n",
            "  libavutil      55. 78.100 / 55. 78.100\n",
            "  libavcodec     57.107.100 / 57.107.100\n",
            "  libavformat    57. 83.100 / 57. 83.100\n",
            "  libavdevice    57. 10.100 / 57. 10.100\n",
            "  libavfilter     6.107.100 /  6.107.100\n",
            "  libavresample   3.  7.  0 /  3.  7.  0\n",
            "  libswscale      4.  8.100 /  4.  8.100\n",
            "  libswresample   2.  9.100 /  2.  9.100\n",
            "  libpostproc    54.  7.100 / 54.  7.100\n",
            "Input #0, image2, from '/content/imgs/bestimg%d.png':\n",
            "  Duration: 00:00:46.92, start: 0.000000, bitrate: N/A\n",
            "    Stream #0:0: Video: png, rgb24(pc), 256x256, 25 fps, 25 tbr, 25 tbn, 25 tbc\n",
            "Stream mapping:\n",
            "  Stream #0:0 -> #0:0 (png (native) -> mpeg4 (native))\n",
            "Press [q] to stop, [?] for help\n",
            "Output #0, mp4, to 'movie.mp4':\n",
            "  Metadata:\n",
            "    encoder         : Lavf57.83.100\n",
            "    Stream #0:0: Video: mpeg4 (mp4v / 0x7634706D), yuv420p, 256x256, q=2-31, 200 kb/s, 20 fps, 10240 tbn, 20 tbc\n",
            "    Metadata:\n",
            "      encoder         : Lavc57.107.100 mpeg4\n",
            "    Side data:\n",
            "      cpb: bitrate max/min/avg: 0/0/200000 buffer size: 0 vbv_delay: -1\n",
            "frame= 1173 fps=566 q=7.4 Lsize=    1641kB time=00:00:58.60 bitrate= 229.4kbits/s speed=28.3x    \n",
            "video:1635kB audio:0kB subtitle:0kB other streams:0kB global headers:0kB muxing overhead: 0.355905%\n"
          ],
          "name": "stdout"
        }
      ]
    }
  ]
}